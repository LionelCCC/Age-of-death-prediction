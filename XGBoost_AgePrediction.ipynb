{
 "cells": [
  {
   "cell_type": "markdown",
   "metadata": {},
   "source": [
    "# Age Prediction Using XGBoost\n",
    "\n",
    "## Description\n",
    "This notebook focuses exclusively on implementing **XGBoost** for predicting **age of death** using a structured dataset. XGBoost is a powerful **gradient boosting algorithm** known for its efficiency and high performance in structured data tasks. It is widely used in machine learning competitions and real-world applications due to its scalability, robustness, and feature importance insights.\n",
    "\n",
    "### **Why This Notebook?**\n",
    "I have structured this repository to explore multiple modeling approaches **separately**, ensuring that each model is implemented in a dedicated notebook. This notebook is specifically designed to:\n",
    "- **Showcase XGBoost’s capabilities** in handling structured tabular data.\n",
    "- **Compare its performance against other models** (which are implemented in separate notebooks).\n",
    "- **Understand the strengths and limitations** of XGBoost in a regression setting.\n",
    "\n",
    "### **What’s Covered in This Notebook?**\n",
    "✅ **Data Preprocessing**: Handling missing values, categorical encoding, and feature scaling.  \n",
    "✅ **XGBoost Implementation**: Training an optimized **gradient boosting model** on the dataset.  \n",
    "✅ **Hyperparameter Tuning**: Using techniques such as grid search or random search to optimize performance.  \n",
    "✅ **Training & Evaluation**: Assessing model performance using metrics like RMSE, MAE, and feature importance analysis.  \n",
    "\n",
    "Each model is trained and evaluated separately to highlight its strengths and weaknesses. Stay tuned for additional notebooks showcasing **novel techniques and alternative modeling approaches**.\n"
   ]
  },
  {
   "cell_type": "markdown",
   "metadata": {},
   "source": [
    "# Import Libraries, Dependencies and Dataset\n"
   ]
  },
  {
   "cell_type": "code",
   "execution_count": 1,
   "metadata": {},
   "outputs": [],
   "source": [
    "import numpy as np \n",
    "import pandas as pd\n",
    "import seaborn as sns\n",
    "import matplotlib.pyplot as plt\n",
    "import kagglehub\n",
    "import os\n",
    "\n"
   ]
  },
  {
   "cell_type": "code",
   "execution_count": 2,
   "metadata": {},
   "outputs": [
    {
     "name": "stdout",
     "output_type": "stream",
     "text": [
      "Path to dataset files: /home/codespace/.cache/kagglehub/datasets/imoore/age-dataset/versions/1\n",
      "Files in dataset directory: ['AgeDataset-V1.csv']\n",
      "     Id                     Name  \\\n",
      "0   Q23        George Washington   \n",
      "1   Q42            Douglas Adams   \n",
      "2   Q91          Abraham Lincoln   \n",
      "3  Q254  Wolfgang Amadeus Mozart   \n",
      "4  Q255     Ludwig van Beethoven   \n",
      "\n",
      "                                 Short description Gender  \\\n",
      "0   1st president of the United States (1732–1799)   Male   \n",
      "1                      English writer and humorist   Male   \n",
      "2  16th president of the United States (1809-1865)   Male   \n",
      "3        Austrian composer of the Classical period   Male   \n",
      "4           German classical and romantic composer   Male   \n",
      "\n",
      "                                             Country  Occupation  Birth year  \\\n",
      "0  United States of America; Kingdom of Great Bri...  Politician        1732   \n",
      "1                                     United Kingdom      Artist        1952   \n",
      "2                           United States of America  Politician        1809   \n",
      "3    Archduchy of Austria; Archbishopric of Salzburg      Artist        1756   \n",
      "4                 Holy Roman Empire; Austrian Empire      Artist        1770   \n",
      "\n",
      "   Death year Manner of death  Age of death  \n",
      "0      1799.0  natural causes          67.0  \n",
      "1      2001.0  natural causes          49.0  \n",
      "2      1865.0        homicide          56.0  \n",
      "3      1791.0             NaN          35.0  \n",
      "4      1827.0             NaN          57.0  \n",
      "<class 'pandas.core.frame.DataFrame'>\n",
      "RangeIndex: 1223009 entries, 0 to 1223008\n",
      "Data columns (total 10 columns):\n",
      " #   Column             Non-Null Count    Dtype  \n",
      "---  ------             --------------    -----  \n",
      " 0   Id                 1223009 non-null  object \n",
      " 1   Name               1223009 non-null  object \n",
      " 2   Short description  1155109 non-null  object \n",
      " 3   Gender             1089363 non-null  object \n",
      " 4   Country            887500 non-null   object \n",
      " 5   Occupation         1016095 non-null  object \n",
      " 6   Birth year         1223009 non-null  int64  \n",
      " 7   Death year         1223008 non-null  float64\n",
      " 8   Manner of death    53603 non-null    object \n",
      " 9   Age of death       1223008 non-null  float64\n",
      "dtypes: float64(2), int64(1), object(7)\n",
      "memory usage: 93.3+ MB\n",
      "None\n",
      "         Birth year    Death year  Age of death\n",
      "count  1.223009e+06  1.223008e+06  1.223008e+06\n",
      "mean   1.844972e+03  1.914246e+03  6.927406e+01\n",
      "std    1.479390e+02  1.516898e+02  1.662938e+01\n",
      "min   -2.700000e+03 -2.659000e+03  0.000000e+00\n",
      "25%    1.828000e+03  1.895000e+03  6.000000e+01\n",
      "50%    1.887000e+03  1.955000e+03  7.200000e+01\n",
      "75%    1.918000e+03  1.994000e+03  8.100000e+01\n",
      "max    2.016000e+03  2.021000e+03  1.690000e+02\n"
     ]
    }
   ],
   "source": [
    "# Dataset download\n",
    "path = kagglehub.dataset_download(\"imoore/age-dataset\")\n",
    "\n",
    "print(\"Path to dataset files:\", path)\n",
    "dataset_path = \"/home/codespace/.cache/kagglehub/datasets/imoore/age-dataset/versions/1\"\n",
    "print(\"Files in dataset directory:\", os.listdir(dataset_path))\n",
    "\n",
    "file_path = os.path.join(dataset_path, \"AgeDataset-V1.csv\")  #\n",
    "df = pd.read_csv(file_path)\n",
    "\n",
    "print(df.head())\n",
    "print(df.info())\n",
    "print(df.describe())"
   ]
  },
  {
   "cell_type": "markdown",
   "metadata": {},
   "source": []
  }
 ],
 "metadata": {
  "kernelspec": {
   "display_name": "Python 3",
   "language": "python",
   "name": "python3"
  },
  "language_info": {
   "codemirror_mode": {
    "name": "ipython",
    "version": 3
   },
   "file_extension": ".py",
   "mimetype": "text/x-python",
   "name": "python",
   "nbconvert_exporter": "python",
   "pygments_lexer": "ipython3",
   "version": "3.12.1"
  }
 },
 "nbformat": 4,
 "nbformat_minor": 2
}
