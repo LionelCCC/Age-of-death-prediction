{
 "cells": [
  {
   "cell_type": "markdown",
   "metadata": {},
   "source": [
    "# Death Prediction Project: Exploring Novel Models with Benchmarks\n",
    "\n",
    "## Description\n",
    "This project explores predictive modeling techniques for death prediction using a dataset with demographic and temporal features. The goal is to predict the **year of death** for individuals based on the given features.\n",
    "\n",
    "### Models Implemented:\n",
    "- **XGBoost**: Used as a benchmark model, achieving ~78% accuracy for ±1 year error tolerance.\n",
    "- **DF2M (Deep Functional Factor Models)**: Currently under implementation, leveraging sparse factorization, Gaussian Processes, and deep kernels for explainable and robust predictions.\n",
    "- **MOIRAI**: Planned implementation as another novel model for comparison, leveraging advanced transformer architectures for universal time-series forecasting.\n",
    "\n",
    "### Objectives:\n",
    "1. **Benchmarking**: Evaluate baseline performance using XGBoost.\n",
    "2. **Novel Approaches**: Implement and test research-based models such as DF2M and MOIRAI.\n",
    "3. **Learning**: Showcase the ability to read, implement, and adapt cutting-edge research into real-world predictive tasks.\n",
    "\n",
    "### Progress:\n",
    "- **Data Preprocessing**: Completed with handling of missing values, feature encoding, and scaling.\n",
    "- **XGBoost**: Successfully implemented as the benchmark model.\n",
    "- **DF2M**: Currently under active development.\n",
    "- **MOIRAI**: Implementation planned as the next step.\n",
    "\n",
    "### Next Steps:\n",
    "1. Finalize the implementation of DF2M and evaluate its performance against XGBoost.\n",
    "2. Integrate MOIRAI into the project to compare its performance on the same dataset.\n",
    "3. Analyze results and document key insights from the model evaluations.\n"
   ]
  },
  {
   "cell_type": "markdown",
   "metadata": {},
   "source": [
    "# Import Libraries and Dependencies\n"
   ]
  },
  {
   "cell_type": "code",
   "execution_count": 2,
   "metadata": {},
   "outputs": [
    {
     "name": "stdout",
     "output_type": "stream",
     "text": [
      "Collecting pytorch-tabnet\n",
      "  Downloading pytorch_tabnet-4.1.0-py3-none-any.whl.metadata (15 kB)\n",
      "Requirement already satisfied: numpy>=1.17 in /home/codespace/.local/lib/python3.12/site-packages (from pytorch-tabnet) (2.2.0)\n",
      "Requirement already satisfied: scikit_learn>0.21 in /home/codespace/.local/lib/python3.12/site-packages (from pytorch-tabnet) (1.6.0)\n",
      "Requirement already satisfied: scipy>1.4 in /home/codespace/.local/lib/python3.12/site-packages (from pytorch-tabnet) (1.14.1)\n",
      "Requirement already satisfied: torch>=1.3 in /home/codespace/.local/lib/python3.12/site-packages (from pytorch-tabnet) (2.5.1+cpu)\n",
      "Collecting tqdm>=4.36 (from pytorch-tabnet)\n",
      "  Downloading tqdm-4.67.1-py3-none-any.whl.metadata (57 kB)\n",
      "Requirement already satisfied: joblib>=1.2.0 in /home/codespace/.local/lib/python3.12/site-packages (from scikit_learn>0.21->pytorch-tabnet) (1.4.2)\n",
      "Requirement already satisfied: threadpoolctl>=3.1.0 in /home/codespace/.local/lib/python3.12/site-packages (from scikit_learn>0.21->pytorch-tabnet) (3.5.0)\n",
      "Requirement already satisfied: filelock in /home/codespace/.local/lib/python3.12/site-packages (from torch>=1.3->pytorch-tabnet) (3.13.1)\n",
      "Requirement already satisfied: typing-extensions>=4.8.0 in /home/codespace/.local/lib/python3.12/site-packages (from torch>=1.3->pytorch-tabnet) (4.12.2)\n",
      "Requirement already satisfied: networkx in /home/codespace/.local/lib/python3.12/site-packages (from torch>=1.3->pytorch-tabnet) (3.2.1)\n",
      "Requirement already satisfied: jinja2 in /home/codespace/.local/lib/python3.12/site-packages (from torch>=1.3->pytorch-tabnet) (3.1.4)\n",
      "Requirement already satisfied: fsspec in /home/codespace/.local/lib/python3.12/site-packages (from torch>=1.3->pytorch-tabnet) (2024.2.0)\n",
      "Requirement already satisfied: setuptools in /home/codespace/.local/lib/python3.12/site-packages (from torch>=1.3->pytorch-tabnet) (75.6.0)\n",
      "Requirement already satisfied: sympy==1.13.1 in /home/codespace/.local/lib/python3.12/site-packages (from torch>=1.3->pytorch-tabnet) (1.13.1)\n",
      "Requirement already satisfied: mpmath<1.4,>=1.1.0 in /home/codespace/.local/lib/python3.12/site-packages (from sympy==1.13.1->torch>=1.3->pytorch-tabnet) (1.3.0)\n",
      "Requirement already satisfied: MarkupSafe>=2.0 in /home/codespace/.local/lib/python3.12/site-packages (from jinja2->torch>=1.3->pytorch-tabnet) (3.0.2)\n",
      "Downloading pytorch_tabnet-4.1.0-py3-none-any.whl (44 kB)\n",
      "Downloading tqdm-4.67.1-py3-none-any.whl (78 kB)\n",
      "Installing collected packages: tqdm, pytorch-tabnet\n",
      "Successfully installed pytorch-tabnet-4.1.0 tqdm-4.67.1\n",
      "\n",
      "\u001b[1m[\u001b[0m\u001b[34;49mnotice\u001b[0m\u001b[1;39;49m]\u001b[0m\u001b[39;49m A new release of pip is available: \u001b[0m\u001b[31;49m24.3.1\u001b[0m\u001b[39;49m -> \u001b[0m\u001b[32;49m25.0\u001b[0m\n",
      "\u001b[1m[\u001b[0m\u001b[34;49mnotice\u001b[0m\u001b[1;39;49m]\u001b[0m\u001b[39;49m To update, run: \u001b[0m\u001b[32;49mpython3 -m pip install --upgrade pip\u001b[0m\n",
      "Collecting pyro-ppl\n",
      "  Downloading pyro_ppl-1.9.1-py3-none-any.whl.metadata (7.8 kB)\n",
      "Requirement already satisfied: numpy>=1.7 in /home/codespace/.local/lib/python3.12/site-packages (from pyro-ppl) (2.2.0)\n",
      "Collecting opt-einsum>=2.3.2 (from pyro-ppl)\n",
      "  Downloading opt_einsum-3.4.0-py3-none-any.whl.metadata (6.3 kB)\n",
      "Collecting pyro-api>=0.1.1 (from pyro-ppl)\n",
      "  Downloading pyro_api-0.1.2-py3-none-any.whl.metadata (2.5 kB)\n",
      "Requirement already satisfied: torch>=2.0 in /home/codespace/.local/lib/python3.12/site-packages (from pyro-ppl) (2.5.1+cpu)\n",
      "Requirement already satisfied: tqdm>=4.36 in /usr/local/python/3.12.1/lib/python3.12/site-packages (from pyro-ppl) (4.67.1)\n",
      "Requirement already satisfied: filelock in /home/codespace/.local/lib/python3.12/site-packages (from torch>=2.0->pyro-ppl) (3.13.1)\n",
      "Requirement already satisfied: typing-extensions>=4.8.0 in /home/codespace/.local/lib/python3.12/site-packages (from torch>=2.0->pyro-ppl) (4.12.2)\n",
      "Requirement already satisfied: networkx in /home/codespace/.local/lib/python3.12/site-packages (from torch>=2.0->pyro-ppl) (3.2.1)\n",
      "Requirement already satisfied: jinja2 in /home/codespace/.local/lib/python3.12/site-packages (from torch>=2.0->pyro-ppl) (3.1.4)\n",
      "Requirement already satisfied: fsspec in /home/codespace/.local/lib/python3.12/site-packages (from torch>=2.0->pyro-ppl) (2024.2.0)\n",
      "Requirement already satisfied: setuptools in /home/codespace/.local/lib/python3.12/site-packages (from torch>=2.0->pyro-ppl) (75.6.0)\n",
      "Requirement already satisfied: sympy==1.13.1 in /home/codespace/.local/lib/python3.12/site-packages (from torch>=2.0->pyro-ppl) (1.13.1)\n",
      "Requirement already satisfied: mpmath<1.4,>=1.1.0 in /home/codespace/.local/lib/python3.12/site-packages (from sympy==1.13.1->torch>=2.0->pyro-ppl) (1.3.0)\n",
      "Requirement already satisfied: MarkupSafe>=2.0 in /home/codespace/.local/lib/python3.12/site-packages (from jinja2->torch>=2.0->pyro-ppl) (3.0.2)\n",
      "Downloading pyro_ppl-1.9.1-py3-none-any.whl (755 kB)\n",
      "\u001b[2K   \u001b[90m━━━━━━━━━━━━━━━━━━━━━━━━━━━━━━━━━━━━━━━━\u001b[0m \u001b[32m756.0/756.0 kB\u001b[0m \u001b[31m30.0 MB/s\u001b[0m eta \u001b[36m0:00:00\u001b[0m\n",
      "\u001b[?25hDownloading opt_einsum-3.4.0-py3-none-any.whl (71 kB)\n",
      "Downloading pyro_api-0.1.2-py3-none-any.whl (11 kB)\n",
      "Installing collected packages: pyro-api, opt-einsum, pyro-ppl\n",
      "Successfully installed opt-einsum-3.4.0 pyro-api-0.1.2 pyro-ppl-1.9.1\n",
      "\n",
      "\u001b[1m[\u001b[0m\u001b[34;49mnotice\u001b[0m\u001b[1;39;49m]\u001b[0m\u001b[39;49m A new release of pip is available: \u001b[0m\u001b[31;49m24.3.1\u001b[0m\u001b[39;49m -> \u001b[0m\u001b[32;49m25.0\u001b[0m\n",
      "\u001b[1m[\u001b[0m\u001b[34;49mnotice\u001b[0m\u001b[1;39;49m]\u001b[0m\u001b[39;49m To update, run: \u001b[0m\u001b[32;49mpython3 -m pip install --upgrade pip\u001b[0m\n",
      "Collecting gpytorch\n",
      "  Downloading gpytorch-1.13-py3-none-any.whl.metadata (8.0 kB)\n",
      "Collecting jaxtyping==0.2.19 (from gpytorch)\n",
      "  Downloading jaxtyping-0.2.19-py3-none-any.whl.metadata (5.7 kB)\n",
      "Requirement already satisfied: mpmath<=1.3,>=0.19 in /home/codespace/.local/lib/python3.12/site-packages (from gpytorch) (1.3.0)\n",
      "Requirement already satisfied: scikit-learn in /home/codespace/.local/lib/python3.12/site-packages (from gpytorch) (1.6.0)\n",
      "Requirement already satisfied: scipy>=1.6.0 in /home/codespace/.local/lib/python3.12/site-packages (from gpytorch) (1.14.1)\n",
      "Collecting linear-operator>=0.5.3 (from gpytorch)\n",
      "  Downloading linear_operator-0.5.3-py3-none-any.whl.metadata (15 kB)\n",
      "Requirement already satisfied: numpy>=1.20.0 in /home/codespace/.local/lib/python3.12/site-packages (from jaxtyping==0.2.19->gpytorch) (2.2.0)\n",
      "Collecting typeguard>=2.13.3 (from jaxtyping==0.2.19->gpytorch)\n",
      "  Downloading typeguard-4.4.1-py3-none-any.whl.metadata (3.7 kB)\n",
      "Requirement already satisfied: typing-extensions>=3.7.4.1 in /home/codespace/.local/lib/python3.12/site-packages (from jaxtyping==0.2.19->gpytorch) (4.12.2)\n",
      "Requirement already satisfied: torch>=1.11 in /home/codespace/.local/lib/python3.12/site-packages (from linear-operator>=0.5.3->gpytorch) (2.5.1+cpu)\n",
      "Requirement already satisfied: joblib>=1.2.0 in /home/codespace/.local/lib/python3.12/site-packages (from scikit-learn->gpytorch) (1.4.2)\n",
      "Requirement already satisfied: threadpoolctl>=3.1.0 in /home/codespace/.local/lib/python3.12/site-packages (from scikit-learn->gpytorch) (3.5.0)\n",
      "Requirement already satisfied: filelock in /home/codespace/.local/lib/python3.12/site-packages (from torch>=1.11->linear-operator>=0.5.3->gpytorch) (3.13.1)\n",
      "Requirement already satisfied: networkx in /home/codespace/.local/lib/python3.12/site-packages (from torch>=1.11->linear-operator>=0.5.3->gpytorch) (3.2.1)\n",
      "Requirement already satisfied: jinja2 in /home/codespace/.local/lib/python3.12/site-packages (from torch>=1.11->linear-operator>=0.5.3->gpytorch) (3.1.4)\n",
      "Requirement already satisfied: fsspec in /home/codespace/.local/lib/python3.12/site-packages (from torch>=1.11->linear-operator>=0.5.3->gpytorch) (2024.2.0)\n",
      "Requirement already satisfied: setuptools in /home/codespace/.local/lib/python3.12/site-packages (from torch>=1.11->linear-operator>=0.5.3->gpytorch) (75.6.0)\n",
      "Requirement already satisfied: sympy==1.13.1 in /home/codespace/.local/lib/python3.12/site-packages (from torch>=1.11->linear-operator>=0.5.3->gpytorch) (1.13.1)\n",
      "Requirement already satisfied: MarkupSafe>=2.0 in /home/codespace/.local/lib/python3.12/site-packages (from jinja2->torch>=1.11->linear-operator>=0.5.3->gpytorch) (3.0.2)\n",
      "Downloading gpytorch-1.13-py3-none-any.whl (277 kB)\n",
      "Downloading jaxtyping-0.2.19-py3-none-any.whl (24 kB)\n",
      "Downloading linear_operator-0.5.3-py3-none-any.whl (176 kB)\n",
      "Downloading typeguard-4.4.1-py3-none-any.whl (35 kB)\n",
      "Installing collected packages: typeguard, jaxtyping, linear-operator, gpytorch\n",
      "Successfully installed gpytorch-1.13 jaxtyping-0.2.19 linear-operator-0.5.3 typeguard-4.4.1\n",
      "\n",
      "\u001b[1m[\u001b[0m\u001b[34;49mnotice\u001b[0m\u001b[1;39;49m]\u001b[0m\u001b[39;49m A new release of pip is available: \u001b[0m\u001b[31;49m24.3.1\u001b[0m\u001b[39;49m -> \u001b[0m\u001b[32;49m25.0\u001b[0m\n",
      "\u001b[1m[\u001b[0m\u001b[34;49mnotice\u001b[0m\u001b[1;39;49m]\u001b[0m\u001b[39;49m To update, run: \u001b[0m\u001b[32;49mpython3 -m pip install --upgrade pip\u001b[0m\n"
     ]
    }
   ],
   "source": [
    "!pip install pytorch-tabnet\n",
    "!pip install pyro-ppl\n",
    "!pip install gpytorch\n"
   ]
  },
  {
   "cell_type": "code",
   "execution_count": 1,
   "metadata": {},
   "outputs": [],
   "source": [
    "import numpy as np \n",
    "import pandas as pd\n",
    "import seaborn as sns\n",
    "import matplotlib.pyplot as plt\n"
   ]
  },
  {
   "cell_type": "markdown",
   "metadata": {},
   "source": []
  }
 ],
 "metadata": {
  "kernelspec": {
   "display_name": "Python 3",
   "language": "python",
   "name": "python3"
  },
  "language_info": {
   "codemirror_mode": {
    "name": "ipython",
    "version": 3
   },
   "file_extension": ".py",
   "mimetype": "text/x-python",
   "name": "python",
   "nbconvert_exporter": "python",
   "pygments_lexer": "ipython3",
   "version": "3.12.1"
  }
 },
 "nbformat": 4,
 "nbformat_minor": 2
}
